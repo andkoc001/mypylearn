{
 "cells": [
  {
   "cell_type": "markdown",
   "metadata": {},
   "source": [
    "# Python exercises\n",
    "Andrzej Kocielski\n",
    "___"
   ]
  },
  {
   "cell_type": "markdown",
   "metadata": {},
   "source": [
    "## Exercise 1 - anagram and palindrome\n",
    "Check wether a string can be rearrange to form a palindrom (the same from front and from back). \n",
    "\n",
    "Based on https://www.hackerrank.com/challenges/game-of-thrones/problem?isFullScreen=true&h_r=next-challenge&h_v=zen\n",
    "\n",
    "15-02-2022"
   ]
  },
  {
   "cell_type": "code",
   "execution_count": 27,
   "metadata": {},
   "outputs": [
    {
     "name": "stdin",
     "output_type": "stream",
     "text": [
      "Enter text to check if its letters can form a palindrom:  fghgf\n"
     ]
    },
    {
     "name": "stdout",
     "output_type": "stream",
     "text": [
      "YES\n"
     ]
    }
   ],
   "source": [
    "def anagram_palindrome(s):\n",
    "    # Write your code here\n",
    "    \n",
    "    palindrome = 'NO'  # initial assumption\n",
    "\n",
    "    if len(s) < 1:\n",
    "        pass\n",
    "\n",
    "    elif len(s) == 1:\n",
    "        palindrome = 'YES'\n",
    "    else:\n",
    "        freq = {}  # dictionary\n",
    "        for c in s:\n",
    "            if c not in freq:\n",
    "                freq[c] = 1\n",
    "            else:\n",
    "                freq[c] += 1\n",
    "\n",
    "        odd_counter = 0\n",
    "        for i in freq.keys():\n",
    "            if freq[i] % 2 != 0:\n",
    "                odd_counter += 1\n",
    "\n",
    "        if odd_counter < 2:\n",
    "            palindrome = \"YES\"\n",
    "\n",
    "    return print(palindrome)\n",
    "\n",
    "    \n",
    "if __name__ == '__main__':\n",
    "   \n",
    "    s = input(\"Enter text to check if its letters can form a palindrom: \")\n",
    "\n",
    "    result = anagram_palindrome(s)"
   ]
  },
  {
   "cell_type": "markdown",
   "metadata": {},
   "source": [
    "## Exercise 2 - min sum and max sum \n",
    "Calculate minimum sum and maximum sum of 4 out of 5 list elements.\n",
    "\n",
    "Based on https://www.hackerrank.com/challenges/one-week-preparation-kit-mini-max-sum/problem?isFullScreen=true&h_l=interview&playlist_slugs%5B%5D=preparation-kits&playlist_slugs%5B%5D=one-week-preparation-kit&playlist_slugs%5B%5D=one-week-day-one\n",
    "\n",
    "15-02-2022"
   ]
  },
  {
   "cell_type": "code",
   "execution_count": 31,
   "metadata": {},
   "outputs": [
    {
     "name": "stdin",
     "output_type": "stream",
     "text": [
      "Enter five integers separated with a space: 13 123 123 123 3\n"
     ]
    },
    {
     "name": "stdout",
     "output_type": "stream",
     "text": [
      "min: 262\n",
      "max: 382\n",
      "262 382\n"
     ]
    }
   ],
   "source": [
    "def miniMaxSum(arr):\n",
    "    # Write your code here\n",
    "\n",
    "#     print('arr: ', arr)\n",
    "    sorted_arr = sorted(arr)\n",
    "    min_arr = sorted_arr[:-1]\n",
    "    sum_min = sum(min_arr)\n",
    "    print('min:', sum_min)\n",
    "    max_arr = sorted_arr[1:]\n",
    "    sum_max = sum(max_arr)\n",
    "    print('max:', sum_max)\n",
    "\n",
    "    return print(sum_min, sum_max)\n",
    "\n",
    "\n",
    "if __name__ == '__main__':\n",
    "\n",
    "    arr = list(\n",
    "        map(int, input('Enter five integers separated with a space:').rstrip().split()))\n",
    "\n",
    "    miniMaxSum(arr)"
   ]
  },
  {
   "cell_type": "markdown",
   "metadata": {},
   "source": [
    "## Exercise 3 - time conversion\n",
    "Convert time format from 12-hour with AM/PM to 24-hour time.\n",
    "Note: 12:00:00AM is 00:00:00 on a 24-hour clock, and similarly 12:00:00PM is 12:00:00 on a 24-hour time format.\n",
    "\n",
    "Based on https://www.hackerrank.com/challenges/one-week-preparation-kit-time-conversion/problem?isFullScreen=true&h_l=interview&playlist_slugs%5B%5D=preparation-kits&playlist_slugs%5B%5D=one-week-preparation-kit&playlist_slugs%5B%5D=one-week-day-one&h_r=next-challenge&h_v=zen&h_r=next-challenge&h_v=zen\n",
    "\n",
    "15-02-2022"
   ]
  },
  {
   "cell_type": "code",
   "execution_count": 41,
   "metadata": {},
   "outputs": [],
   "source": [
    "#sample input string\n",
    "s = \"04:59:59AM\""
   ]
  },
  {
   "cell_type": "code",
   "execution_count": 45,
   "metadata": {},
   "outputs": [
    {
     "data": {
      "text/plain": [
       "'04:59:59'"
      ]
     },
     "execution_count": 45,
     "metadata": {},
     "output_type": "execute_result"
    }
   ],
   "source": [
    "# check the second last charater (A for AM or P for PM)\n",
    "def timeConversion(s):\n",
    "    # AM\n",
    "    if s.endswith('AM'): # or s[-2:]\n",
    "        # check if 'zero' hour\n",
    "        if s.startswith('12'): # or s[:2] == \"12\"\n",
    "            return s.replace('12', '00', 1).strip('APM')\n",
    "        else:\n",
    "            return s.strip('APM')\n",
    "    # PM\n",
    "    elif s.endswith('PM'): # or s[-2:]\n",
    "        # check if 'noon' hour\n",
    "        if s.startswith('12'): # or s[:2] == \"12\"\n",
    "            return s.strip('APM')\n",
    "        else:         \n",
    "            # convert to 24 hours format\n",
    "            pm_hour = str(int(s[:2])+12)\n",
    "            return pm_hour + s[2:].strip('APM')\n",
    "        \n",
    "timeConversion(s)"
   ]
  },
  {
   "cell_type": "code",
   "execution_count": 96,
   "metadata": {},
   "outputs": [
    {
     "name": "stdout",
     "output_type": "stream",
     "text": [
      "[1, 3, 7, 9, 9, 17]\n",
      "Median: 8\n"
     ]
    }
   ],
   "source": [
    "arr = [1, 9, 3, 2 7, 9, 17]\n",
    "\n",
    "arr_sorted = sorted(arr)\n",
    "print(arr_sorted)\n",
    "\n",
    "n = len(arr_sorted)\n",
    "\n",
    "if n % 2 != 0: # odd\n",
    "    k = n//2\n",
    "    print('Median:', arr_sorted[k])\n",
    "else: # even\n",
    "    k = n//2 \n",
    "    print('Median:', ((arr_sorted[k-1])+(arr_sorted[k]))//2)\n",
    "    \n"
   ]
  },
  {
   "cell_type": "code",
   "execution_count": null,
   "metadata": {},
   "outputs": [],
   "source": []
  }
 ],
 "metadata": {
  "kernelspec": {
   "display_name": "Python 3",
   "language": "python",
   "name": "python3"
  },
  "language_info": {
   "codemirror_mode": {
    "name": "ipython",
    "version": 3
   },
   "file_extension": ".py",
   "mimetype": "text/x-python",
   "name": "python",
   "nbconvert_exporter": "python",
   "pygments_lexer": "ipython3",
   "version": "3.7.9"
  }
 },
 "nbformat": 4,
 "nbformat_minor": 4
}
