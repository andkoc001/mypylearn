{
 "cells": [
  {
   "cell_type": "code",
   "execution_count": 1,
   "metadata": {},
   "outputs": [
    {
     "name": "stdout",
     "output_type": "stream",
     "text": [
      "Liczba plansz: 9\n"
     ]
    }
   ],
   "source": [
    "# Załaduj dane z pliku\n",
    "\n",
    "with open(\"./Dane_2203/szachy_przyklad.txt\") as file:\n",
    "    wiersze = []\n",
    "    for line in file:\n",
    "        wiersze.append(line.rstrip())\n",
    "        # print(line)\n",
    "    \n",
    "liczba_plansz = (len(wiersze)+1)//9\n",
    "print(\"Liczba plansz:\", liczba_plansz)\n",
    "plansze = []\n",
    "licznik = 1\n",
    "for plansza in range(liczba_plansz):\n",
    "    # print(\"Plansza\", plansza+1)\n",
    "    rzedy = []\n",
    "    for w in range(8):\n",
    "        rzad = wiersze[(plansza)*9+w]\n",
    "        # print(plansza+1, licznik, rzad)\n",
    "        # licznik = licznik + 1\n",
    "        rzedy.append(rzad)\n",
    "    \n",
    "    # print(len(rzedy))\n",
    "    plansze.append(rzedy)\n",
    "\n",
    "# print(len(plansze))\n",
    "# for j in range(len(plansze)):\n",
    "#     for k in range(8):\n",
    "#         print(\"Plansza\", j+1, \"rząd\", k+1, \":\", plansze[j][k][0:8])\n",
    "#     print()    "
   ]
  },
  {
   "cell_type": "code",
   "execution_count": 2,
   "metadata": {},
   "outputs": [],
   "source": [
    "# # Przykłąd planszy \n",
    "# for rzad in range(8):\n",
    "#     print(plansze[2][rzad])"
   ]
  },
  {
   "cell_type": "code",
   "execution_count": 3,
   "metadata": {},
   "outputs": [
    {
     "name": "stdout",
     "output_type": "stream",
     "text": [
      "\n",
      "Liczba plansz z pustymi kolumnami: 7\n",
      "Maksymalna liczba pustych kolumn na planszy: 5\n"
     ]
    }
   ],
   "source": [
    "# znajdź plansze z pustymi kolumnami\n",
    "\n",
    "licznik = 0\n",
    "maks = 0\n",
    "\n",
    "for plansza in range(len(plansze)):    \n",
    "    # print('\\nPlansza:', plansza)\n",
    "    pusta_kolumna = 0\n",
    "    for kol in range(8):\n",
    "        # print('Kolumna', kol+1)\n",
    "        puste_pole = 0\n",
    "        for rzad in range(8):\n",
    "            if plansze[plansza][rzad][kol] == '.':\n",
    "                puste_pole += 1\n",
    "            # print(\"rząd:\", rzad+1, \":\", puste_pole)\n",
    "            if puste_pole == 8:\n",
    "                # print('Pusta!')\n",
    "                pusta_kolumna += 1\n",
    "    # print('Liczba pustych kolumn na tej planszy:', pusta_kolumna)\n",
    "    \n",
    "    if pusta_kolumna > maks:\n",
    "        maks = pusta_kolumna\n",
    "    \n",
    "    \n",
    "    if pusta_kolumna > 0:\n",
    "        licznik += 1\n",
    "\n",
    "print(\"Liczba plansz z pustymi kolumnami:\", licznik)\n",
    "print(\"Maksymalna liczba pustych kolumn na planszy:\", maks)"
   ]
  }
 ],
 "metadata": {
  "kernelspec": {
   "display_name": "Python 3.10.6 64-bit",
   "language": "python",
   "name": "python3"
  },
  "language_info": {
   "codemirror_mode": {
    "name": "ipython",
    "version": 3
   },
   "file_extension": ".py",
   "mimetype": "text/x-python",
   "name": "python",
   "nbconvert_exporter": "python",
   "pygments_lexer": "ipython3",
   "version": "3.10.6"
  },
  "orig_nbformat": 4,
  "vscode": {
   "interpreter": {
    "hash": "916dbcbb3f70747c44a77c7bcd40155683ae19c65e1c03b4aa3499c5328201f1"
   }
  }
 },
 "nbformat": 4,
 "nbformat_minor": 2
}
