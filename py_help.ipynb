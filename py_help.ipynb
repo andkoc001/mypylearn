{
 "cells": [
  {
   "cell_type": "markdown",
   "metadata": {},
   "source": [
    "# Python Interactive Help\n",
    "> Andrzej Kocielski\n",
    "\n",
    "Excercis based on Socratica tutorial: https://www.youtube.com/watch?v=BVXv0-1Rcc8"
   ]
  },
  {
   "cell_type": "markdown",
   "metadata": {},
   "source": [
    "\"Fortune favoures the prepared minds.\""
   ]
  },
  {
   "cell_type": "markdown",
   "metadata": {},
   "source": [
    "### Accessing built-in help"
   ]
  },
  {
   "cell_type": "markdown",
   "metadata": {},
   "source": [
    "Python has a built-in function `dir()`, which lists available objects. Below is a list of the objects that come with bare Python. You do not need to import anything to use any of them."
   ]
  },
  {
   "cell_type": "code",
   "execution_count": 1,
   "metadata": {},
   "outputs": [
    {
     "data": {
      "text/plain": [
       "['In',\n",
       " 'Out',\n",
       " '_',\n",
       " '__',\n",
       " '___',\n",
       " '__builtin__',\n",
       " '__builtins__',\n",
       " '__doc__',\n",
       " '__loader__',\n",
       " '__name__',\n",
       " '__package__',\n",
       " '__spec__',\n",
       " '_dh',\n",
       " '_i',\n",
       " '_i1',\n",
       " '_ih',\n",
       " '_ii',\n",
       " '_iii',\n",
       " '_oh',\n",
       " 'exit',\n",
       " 'get_ipython',\n",
       " 'quit']"
      ]
     },
     "execution_count": 1,
     "metadata": {},
     "output_type": "execute_result"
    }
   ],
   "source": [
    "dir()"
   ]
  },
  {
   "cell_type": "markdown",
   "metadata": {},
   "source": [
    "Object `__builtins__` contains a collection of common objects which are always available. \n",
    "Passing this object onto `dir()` function will list all objects (funtions, types) belonging to it.\n",
    "\n",
    "You will see, inter alta, some well known functions, like `print` or `str`. It is worth scanning the list. What is important however is this you can always access the list, even in case of no access to the Intenet.\n",
    "\n",
    "In particular, note the `help` funtion."
   ]
  },
  {
   "cell_type": "code",
   "execution_count": 2,
   "metadata": {},
   "outputs": [
    {
     "data": {
      "text/plain": [
       "['ArithmeticError',\n",
       " 'AssertionError',\n",
       " 'AttributeError',\n",
       " 'BaseException',\n",
       " 'BlockingIOError',\n",
       " 'BrokenPipeError',\n",
       " 'BufferError',\n",
       " 'BytesWarning',\n",
       " 'ChildProcessError',\n",
       " 'ConnectionAbortedError',\n",
       " 'ConnectionError',\n",
       " 'ConnectionRefusedError',\n",
       " 'ConnectionResetError',\n",
       " 'DeprecationWarning',\n",
       " 'EOFError',\n",
       " 'Ellipsis',\n",
       " 'EnvironmentError',\n",
       " 'Exception',\n",
       " 'False',\n",
       " 'FileExistsError',\n",
       " 'FileNotFoundError',\n",
       " 'FloatingPointError',\n",
       " 'FutureWarning',\n",
       " 'GeneratorExit',\n",
       " 'IOError',\n",
       " 'ImportError',\n",
       " 'ImportWarning',\n",
       " 'IndentationError',\n",
       " 'IndexError',\n",
       " 'InterruptedError',\n",
       " 'IsADirectoryError',\n",
       " 'KeyError',\n",
       " 'KeyboardInterrupt',\n",
       " 'LookupError',\n",
       " 'MemoryError',\n",
       " 'ModuleNotFoundError',\n",
       " 'NameError',\n",
       " 'None',\n",
       " 'NotADirectoryError',\n",
       " 'NotImplemented',\n",
       " 'NotImplementedError',\n",
       " 'OSError',\n",
       " 'OverflowError',\n",
       " 'PendingDeprecationWarning',\n",
       " 'PermissionError',\n",
       " 'ProcessLookupError',\n",
       " 'RecursionError',\n",
       " 'ReferenceError',\n",
       " 'ResourceWarning',\n",
       " 'RuntimeError',\n",
       " 'RuntimeWarning',\n",
       " 'StopAsyncIteration',\n",
       " 'StopIteration',\n",
       " 'SyntaxError',\n",
       " 'SyntaxWarning',\n",
       " 'SystemError',\n",
       " 'SystemExit',\n",
       " 'TabError',\n",
       " 'TimeoutError',\n",
       " 'True',\n",
       " 'TypeError',\n",
       " 'UnboundLocalError',\n",
       " 'UnicodeDecodeError',\n",
       " 'UnicodeEncodeError',\n",
       " 'UnicodeError',\n",
       " 'UnicodeTranslateError',\n",
       " 'UnicodeWarning',\n",
       " 'UserWarning',\n",
       " 'ValueError',\n",
       " 'Warning',\n",
       " 'ZeroDivisionError',\n",
       " '__IPYTHON__',\n",
       " '__build_class__',\n",
       " '__debug__',\n",
       " '__doc__',\n",
       " '__import__',\n",
       " '__loader__',\n",
       " '__name__',\n",
       " '__package__',\n",
       " '__spec__',\n",
       " 'abs',\n",
       " 'all',\n",
       " 'any',\n",
       " 'ascii',\n",
       " 'bin',\n",
       " 'bool',\n",
       " 'breakpoint',\n",
       " 'bytearray',\n",
       " 'bytes',\n",
       " 'callable',\n",
       " 'chr',\n",
       " 'classmethod',\n",
       " 'compile',\n",
       " 'complex',\n",
       " 'copyright',\n",
       " 'credits',\n",
       " 'delattr',\n",
       " 'dict',\n",
       " 'dir',\n",
       " 'display',\n",
       " 'divmod',\n",
       " 'enumerate',\n",
       " 'eval',\n",
       " 'exec',\n",
       " 'filter',\n",
       " 'float',\n",
       " 'format',\n",
       " 'frozenset',\n",
       " 'get_ipython',\n",
       " 'getattr',\n",
       " 'globals',\n",
       " 'hasattr',\n",
       " 'hash',\n",
       " 'help',\n",
       " 'hex',\n",
       " 'id',\n",
       " 'input',\n",
       " 'int',\n",
       " 'isinstance',\n",
       " 'issubclass',\n",
       " 'iter',\n",
       " 'len',\n",
       " 'license',\n",
       " 'list',\n",
       " 'locals',\n",
       " 'map',\n",
       " 'max',\n",
       " 'memoryview',\n",
       " 'min',\n",
       " 'next',\n",
       " 'object',\n",
       " 'oct',\n",
       " 'open',\n",
       " 'ord',\n",
       " 'pow',\n",
       " 'print',\n",
       " 'property',\n",
       " 'range',\n",
       " 'repr',\n",
       " 'reversed',\n",
       " 'round',\n",
       " 'set',\n",
       " 'setattr',\n",
       " 'slice',\n",
       " 'sorted',\n",
       " 'staticmethod',\n",
       " 'str',\n",
       " 'sum',\n",
       " 'super',\n",
       " 'tuple',\n",
       " 'type',\n",
       " 'vars',\n",
       " 'zip']"
      ]
     },
     "execution_count": 2,
     "metadata": {},
     "output_type": "execute_result"
    }
   ],
   "source": [
    "dir(__builtins__)"
   ]
  },
  {
   "cell_type": "markdown",
   "metadata": {},
   "source": [
    "Function `help` provides description and usage of other objects. The description is taken from 'docstring' inside of the object in question (for that reason it is a good practice to always include a 'docsting' into a newly created function etc.).\n",
    "\n",
    "Let's see, for example, what help is available to `pow` function."
   ]
  },
  {
   "cell_type": "markdown",
   "metadata": {},
   "source": [
    "### Examples"
   ]
  },
  {
   "cell_type": "code",
   "execution_count": 3,
   "metadata": {},
   "outputs": [
    {
     "name": "stdout",
     "output_type": "stream",
     "text": [
      "Help on built-in function pow in module builtins:\n",
      "\n",
      "pow(x, y, z=None, /)\n",
      "    Equivalent to x**y (with two arguments) or x**y % z (with three arguments)\n",
      "    \n",
      "    Some types, such as ints, are able to use a more efficient algorithm when\n",
      "    invoked using the three argument form.\n",
      "\n"
     ]
    }
   ],
   "source": [
    "help(pow)"
   ]
  },
  {
   "cell_type": "markdown",
   "metadata": {},
   "source": [
    "As another example, let's try a built-in funtion `hex`."
   ]
  },
  {
   "cell_type": "code",
   "execution_count": 4,
   "metadata": {},
   "outputs": [
    {
     "name": "stdout",
     "output_type": "stream",
     "text": [
      "Help on built-in function hex in module builtins:\n",
      "\n",
      "hex(number, /)\n",
      "    Return the hexadecimal representation of an integer.\n",
      "    \n",
      "    >>> hex(12648430)\n",
      "    '0xc0ffee'\n",
      "\n"
     ]
    }
   ],
   "source": [
    "help(hex)"
   ]
  },
  {
   "cell_type": "code",
   "execution_count": 10,
   "metadata": {},
   "outputs": [
    {
     "data": {
      "text/plain": [
       "'0xa'"
      ]
     },
     "execution_count": 10,
     "metadata": {},
     "output_type": "execute_result"
    }
   ],
   "source": [
    "hex(10) # note the function returns 'str' type"
   ]
  },
  {
   "cell_type": "code",
   "execution_count": 14,
   "metadata": {},
   "outputs": [
    {
     "data": {
      "text/plain": [
       "10"
      ]
     },
     "execution_count": 14,
     "metadata": {},
     "output_type": "execute_result"
    }
   ],
   "source": [
    "0xa # without single qoutes -> converts from hex to dec"
   ]
  },
  {
   "cell_type": "markdown",
   "metadata": {},
   "source": [
    "### Help on modules"
   ]
  },
  {
   "cell_type": "markdown",
   "metadata": {},
   "source": [
    "Think of a module as a folder that contains other Python objects."
   ]
  },
  {
   "cell_type": "code",
   "execution_count": 15,
   "metadata": {},
   "outputs": [
    {
     "name": "stdout",
     "output_type": "stream",
     "text": [
      "\n",
      "Please wait a moment while I gather a list of all available modules...\n",
      "\n"
     ]
    },
    {
     "name": "stderr",
     "output_type": "stream",
     "text": [
      "/home/ak/anaconda3/lib/python3.7/site-packages/IPython/kernel/__init__.py:13: ShimWarning: The `IPython.kernel` package has been deprecated since IPython 4.0.You should import from ipykernel or jupyter_client instead.\n",
      "  \"You should import from ipykernel or jupyter_client instead.\", ShimWarning)\n",
      "WARNING: AstropyDeprecationWarning: astropy.utils.compat.futures is now deprecated - use concurrent.futures instead [astropy.utils.compat.futures]\n",
      "/home/ak/anaconda3/lib/python3.7/site-packages/distributed/config.py:20: YAMLLoadWarning: calling yaml.load() without Loader=... is deprecated, as the default Loader is unsafe. Please read https://msg.pyyaml.org/load for full details.\n",
      "  defaults = yaml.load(f)\n",
      "/home/ak/anaconda3/lib/python3.7/site-packages/nltk/twitter/__init__.py:22: UserWarning: The twython library has not been installed. Some functionality from the twitter package will not be available.\n",
      "  \"The twython library has not been installed. \"\n",
      "/home/ak/anaconda3/lib/python3.7/site-packages/skimage/novice/__init__.py:103: UserWarning: The `skimage.novice` module was deprecated in version 0.14. It will be removed in 0.16.\n",
      "  warnings.warn(\"The `skimage.novice` module was deprecated in version 0.14. \"\n",
      "/home/ak/anaconda3/lib/python3.7/site-packages/skimage/viewer/utils/core.py:10: UserWarning: Recommended matplotlib backend is `Agg` for full skimage.viewer functionality.\n",
      "  warn(\"Recommended matplotlib backend is `Agg` for full \"\n",
      "/home/ak/anaconda3/lib/python3.7/site-packages/sphinx/websupport/__init__.py:25: RemovedInSphinx20Warning: sphinx.websupport module is now provided as sphinxcontrib-websupport. sphinx.websupport will be removed at Sphinx-2.0. Please use the package instead.\n",
      "  RemovedInSphinx20Warning)\n"
     ]
    },
    {
     "name": "stdout",
     "output_type": "stream",
     "text": [
      "Crypto              brain_multiprocessing jsonschema          rmagic\n",
      "Cython              brain_namedtuple_enum jupyter             rope\n",
      "IPython             brain_nose          jupyter_client      ruamel_yaml\n",
      "OpenSSL             brain_numpy         jupyter_console     runpy\n",
      "PIL                 brain_pkg_resources jupyter_core        sched\n",
      "PyQt5               brain_pytest        jupyterlab          scipy\n",
      "__future__          brain_qt            jupyterlab_server   scripts\n",
      "_abc                brain_random        keyring             seaborn\n",
      "_ast                brain_re            keyword             secrets\n",
      "_ast27              brain_six           kiwisolver          secretstorage\n",
      "_ast3               brain_ssl           lazy_object_proxy   select\n",
      "_asyncio            brain_subprocess    lib2to3             selectors\n",
      "_bisect             brain_threading     libarchive          send2trash\n",
      "_blake2             brain_typing        libfuturize         sentence\n",
      "_bootlocale         brain_uuid          libpasteurize       setuptools\n",
      "_bz2                branca              lief                shelve\n",
      "_cffi_backend       bs4                 linecache           shlex\n",
      "_codecs             bubblesort          list_seq            shutil\n",
      "_codecs_cn          builtins            llvmlite            signal\n",
      "_codecs_hk          bz2                 locale              simplegeneric\n",
      "_codecs_iso2022     cProfile            locket              singledispatch\n",
      "_codecs_jp          calendar            logging             singledispatch_helpers\n",
      "_codecs_kr          certifi             lxml                sip\n",
      "_codecs_tw          cffi                lzma                sipconfig\n",
      "_collections        cgi                 macpath             sipdistutils\n",
      "_collections_abc    cgitb               mailbox             site\n",
      "_compat_pickle      chardet             mailcap             six\n",
      "_compression        chunk               markupsafe          skimage\n",
      "_contextvars        classes             marshal             sklearn\n",
      "_crypt              click               math                smtpd\n",
      "_csv                cloudpickle         matplotlib          smtplib\n",
      "_ctypes             clyent              mccabe              sndhdr\n",
      "_ctypes_test        cmath               mimetypes           snowballstemmer\n",
      "_curses             cmd                 mistune             socket\n",
      "_curses_panel       code                mkl                 socketserver\n",
      "_datetime           codecs              mkl_fft             socks\n",
      "_decimal            codeop              mkl_random          sockshandler\n",
      "_dummy_thread       collections         mmap                sortedcollections\n",
      "_elementtree        colorama            modulefinder        sortedcontainers\n",
      "_functools          colorsys            more_itertools      soupsieve\n",
      "_hashlib            compileall          mpmath              sphinx\n",
      "_heapq              concurrent          msgpack             sphinxcontrib\n",
      "_imp                conda               multipledispatch    spoj-two-circles\n",
      "_io                 conda_build         multiprocessing     spoj001_answer_to_life\n",
      "_json               conda_env           myfirst             sprawdzanie_logiki\n",
      "_locale             conda_verify        mypy                spwd\n",
      "_lsprof             configparser        mypy_extensions     spyder\n",
      "_lzma               contextlib          navigator_updater   spyder_breakpoints\n",
      "_markupbase         contextlib2         nbconvert           spyder_io_dcm\n",
      "_md5                contextvars         nbformat            spyder_io_hdf5\n",
      "_multibytecodec     copy                netrc               spyder_kernels\n",
      "_multiprocessing    copyreg             networkx            spyder_profiler\n",
      "_opcode             crypt               nis                 spyder_pylint\n",
      "_operator           cryptography        nltk                sqlalchemy\n",
      "_osx_support        csv                 nntplib             sqlite3\n",
      "_pickle             ctypes              nose                sre_compile\n",
      "_posixsubprocess    curl                notebook            sre_constants\n",
      "_py_abc             curses              ntpath              sre_parse\n",
      "_pydecimal          cycler              nturl2path          ssl\n",
      "_pyio               cython              numba               stat\n",
      "_pylief             cythonmagic         numbers             statistics\n",
      "_pyrsistent_version cytoolz             numexpr             statsmodels\n",
      "_pytest             dask                numpy               storemagic\n",
      "_queue              data_types_check    numpydoc            string\n",
      "_random             dataclasses         odo                 stringprep\n",
      "_sha1               datashape           olefile             struct\n",
      "_sha256             datetime            opcode              subprocess\n",
      "_sha3               dateutil            openpyxl            sunau\n",
      "_sha512             dbm                 operator            symbol\n",
      "_signal             decimal             optparse            sympy\n",
      "_sitebuiltins       decorator           os                  sympyprinting\n",
      "_socket             defusedxml          ossaudiodev         symtable\n",
      "_sqlite3            difflib             packaging           sys\n",
      "_sre                dis                 pandas              sysconfig\n",
      "_ssl                distributed         pandocfilters       syslog\n",
      "_stat               distutils           parser              tables\n",
      "_string             doctest             parso               tabnanny\n",
      "_strptime           docutils            partd               tarfile\n",
      "_struct             dummy_threading     past                tblib\n",
      "_symtable           easy_install        path                telnetlib\n",
      "_sysconfigdata_i686_conda_cos6_linux_gnu email               pathlib             tempfile\n",
      "_sysconfigdata_m_linux_x86_64-linux-gnu encodings           pathlib2            terminado\n",
      "_sysconfigdata_powerpc64le_conda_cos7_linux_gnu ensurepip           patsy               termios\n",
      "_sysconfigdata_x86_64_apple_darwin13_4_0 entrypoints         pdb                 test\n",
      "_sysconfigdata_x86_64_conda_cos6_linux_gnu enum                pep8                test_data\n",
      "_testbuffer         errno               pexpect             test_path\n",
      "_testcapi           et_xmlfile          pickle              test_pycosat\n",
      "_testimportmultiple factorial           pickleshare         testpath\n",
      "_testmultiphase     fastcache           pickletools         tests\n",
      "_thread             faulthandler        pip                 textwrap\n",
      "_threading_local    fcntl               pipes               this\n",
      "_tkinter            fibonacci           pkg_resources       threading\n",
      "_tracemalloc        filecmp             pkginfo             time\n",
      "_warnings           fileinput           pkgutil             timeit\n",
      "_weakref            filelock            platform            tkinter\n",
      "_weakrefset         flask               plistlib            tlz\n",
      "_xxtestfuzz         flask_cors          pluggy              token\n",
      "_yaml               fnmatch             ply                 tokenize\n",
      "abc                 folium              poplib              toolz\n",
      "aifc                formatter           posix               tornado\n",
      "alabaster           fractions           posixpath           tqdm\n",
      "altair              friday              pprint              trace\n",
      "anaconda_navigator  ftplib              prime_gen_spoj      traceback\n",
      "anaconda_project    functools           profile             tracemalloc\n",
      "antigravity         future              prometheus_client   traitlets\n",
      "argparse            gc                  prompt_toolkit      tty\n",
      "array               genericpath         pstats              turtle\n",
      "asn1crypto          getopt              psutil              turtledemo\n",
      "ast                 getpass             pty                 typed_ast\n",
      "astroid             gettext             ptyprocess          types\n",
      "astropy             gevent              pvectorc            typing\n",
      "asynchat            glob                pwd                 unicodecsv\n",
      "asyncio             glob2               py                  unicodedata\n",
      "asyncore            gmpy2               py_compile          units_coversion\n",
      "atexit              greenlet            pyclbr              unittest\n",
      "atomicwrites        grp                 pycodestyle         urllib\n",
      "attr                gzip                pycosat             urllib3\n",
      "audioop             h5py                pycparser           uu\n",
      "autopep8            hashlib             pycurl              uuid\n",
      "autoreload          heapdict            pydoc               venv\n",
      "average             heapq               pydoc_data          vincent\n",
      "babel               hmac                pyexpat             warnings\n",
      "backcall            html                pyflakes            wave\n",
      "backports           html5lib            pygments            wcwidth\n",
      "base64              http                pylab               weakref\n",
      "bdb                 idlelib             pylint              webbrowser\n",
      "binascii            idna                pyodbc              webencodings\n",
      "binhex              imageio             pyparsing           werkzeug\n",
      "binstar_client      imagesize           pyrsistent          wheel\n",
      "bisect              imaplib             pytest              widgetsnbextension\n",
      "bitarray            imghdr              pytest_arraydiff    wrapt\n",
      "bkcharts            imp                 pytest_doctestplus  wsgiref\n",
      "blaze               importlib           pytest_openfiles    wurlitzer\n",
      "bleach              importlib_metadata  pytest_remotedata   wybory\n",
      "bokeh               inspect             pytz                xdrlib\n",
      "boto                io                  pywt                xlrd\n",
      "bottleneck          ipaddress           pyximport           xlsxwriter\n",
      "brain_argparse      ipykernel           qtawesome           xlwt\n",
      "brain_attrs         ipykernel_launcher  qtconsole           xml\n",
      "brain_builtin_inference ipython_genutils    qtpy                xmlrpc\n",
      "brain_collections   ipywidgets          quadratic           xxlimited\n",
      "brain_curses        isort               queue               xxsubtype\n",
      "brain_dateutil      isympy              quopri              yaml\n",
      "brain_fstrings      itertools           random              zict\n",
      "brain_functools     itsdangerous        re                  zipapp\n",
      "brain_gi            jdcal               readline            zipfile\n",
      "brain_hashlib       jedi                reprlib             zipimport\n",
      "brain_http          jeepney             requests            zipp\n",
      "brain_io            jinja2              resource            zlib\n",
      "brain_mechanize     json                rlcompleter         zmq\n",
      "\n",
      "Enter any module name to get more help.  Or, type \"modules spam\" to search\n",
      "for modules whose name or summary contain the string \"spam\".\n",
      "\n",
      "DEBUG:matplotlib.pyplot:Loaded backend module://ipykernel.pylab.backend_inline version unknown.\n"
     ]
    },
    {
     "name": "stderr",
     "output_type": "stream",
     "text": [
      "/home/ak/anaconda3/lib/python3.7/pkgutil.py:107: VisibleDeprecationWarning: zmq.eventloop.minitornado is deprecated in pyzmq 14.0 and will be removed.\n",
      "    Install tornado itself to use zmq with the tornado IOLoop.\n",
      "    \n",
      "  yield from walk_packages(path, info.name+'.', onerror)\n"
     ]
    }
   ],
   "source": [
    "help(\"modules\") # modules is a str"
   ]
  },
  {
   "cell_type": "markdown",
   "metadata": {},
   "source": [
    "In order to get a help on a specific module, you must first import it."
   ]
  },
  {
   "cell_type": "markdown",
   "metadata": {},
   "source": [
    "Commands `dir(\"module_name\")` and `help(\"module_name\")` are avialable, even if the modules are not imported yet. Try, for example, dir(\"math\").\n",
    "\n",
    "However, to get help on a object belonging to an external module, that module must be first imported.\n",
    "\n",
    "Also note that help on a funtion from imported module cannot be accessed directly - it is linked - with `.` operator - to the module it originates from (to specify the path to it). E.g."
   ]
  },
  {
   "cell_type": "code",
   "execution_count": 32,
   "metadata": {},
   "outputs": [],
   "source": [
    "import math"
   ]
  },
  {
   "cell_type": "code",
   "execution_count": 33,
   "metadata": {},
   "outputs": [
    {
     "name": "stdout",
     "output_type": "stream",
     "text": [
      "Help on built-in function radians in module math:\n",
      "\n",
      "radians(x, /)\n",
      "    Convert angle x from degrees to radians.\n",
      "\n"
     ]
    }
   ],
   "source": [
    "help(math.radians) # gets help on 'radians' funtion of 'math' module"
   ]
  },
  {
   "cell_type": "code",
   "execution_count": null,
   "metadata": {},
   "outputs": [],
   "source": []
  }
 ],
 "metadata": {
  "kernelspec": {
   "display_name": "Python 3",
   "language": "python",
   "name": "python3"
  },
  "language_info": {
   "codemirror_mode": {
    "name": "ipython",
    "version": 3
   },
   "file_extension": ".py",
   "mimetype": "text/x-python",
   "name": "python",
   "nbconvert_exporter": "python",
   "pygments_lexer": "ipython3",
   "version": "3.7.3"
  }
 },
 "nbformat": 4,
 "nbformat_minor": 2
}
