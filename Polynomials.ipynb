{
 "cells": [
  {
   "cell_type": "markdown",
   "metadata": {},
   "source": [
    "# Polynomials -  mathematical operations \n",
    "\n",
    "> Author: Andrzej Kocielski\n",
    ">\n",
    "> Created: 26-07-2020\n",
    "\n",
    "#### Description\n",
    "The program performs multiplication (other operations to follow) of two user-defined polynomials."
   ]
  },
  {
   "cell_type": "markdown",
   "metadata": {},
   "source": [
    "## Setting up the environment"
   ]
  },
  {
   "cell_type": "code",
   "execution_count": 22,
   "metadata": {},
   "outputs": [],
   "source": [
    "# Importing libraries\n",
    "\n",
    "import math\n",
    "import numpy as np\n",
    "from matplotlib import pyplot as plt"
   ]
  },
  {
   "cell_type": "markdown",
   "metadata": {},
   "source": [
    "## Data entry\n",
    "\n",
    "User is asked to enter the two polynomials, $P(x)$ and $Q(x)$.\n",
    "\n",
    "The two polynomials have generic forms as follows:\n",
    "\n",
    "$$\n",
    "P(x) = a_n x^n + a_{n-1} x^{n-1} + ... + a_1 x + a_0 \n",
    "$$\n",
    "\n",
    "\n",
    "$$\n",
    "Q(x) = b_n x^m + b_{m-1} x^{m-1} + ... + b_1 x + b_0 \n",
    "$$\n"
   ]
  },
  {
   "cell_type": "code",
   "execution_count": 68,
   "metadata": {},
   "outputs": [
    {
     "name": "stdout",
     "output_type": "stream",
     "text": [
      "   4\n",
      "1 x + 5 x + 2\n"
     ]
    }
   ],
   "source": [
    "# enter the values of 'a' for polynomial P:\n",
    "\n",
    "a4 = 1\n",
    "a3 = 0\n",
    "a2 = 0\n",
    "a1 = 5\n",
    "a0 = 2\n",
    "\n",
    "# convert to a numpy object: poly1d\n",
    "poly_P = np.poly1d([a4, a3, a2, a1, a0])\n",
    "\n",
    "print(poly_P)"
   ]
  },
  {
   "cell_type": "code",
   "execution_count": 69,
   "metadata": {},
   "outputs": [
    {
     "name": "stdout",
     "output_type": "stream",
     "text": [
      "   2\n",
      "2 x - 1\n"
     ]
    }
   ],
   "source": [
    "# enter the values of 'b' for polynomial Q:\n",
    "\n",
    "b4 = 0\n",
    "b3 = 0\n",
    "b2 = 2\n",
    "b1 = 0\n",
    "b0 = -1\n",
    "\n",
    "\n",
    "# convert to a numpy object: poly1d\n",
    "poly_Q = np.poly1d([b4, b3, b2, b1, b0])\n",
    "\n",
    "print(poly_Q)"
   ]
  },
  {
   "cell_type": "markdown",
   "metadata": {},
   "source": [
    "## Multiplication"
   ]
  },
  {
   "cell_type": "code",
   "execution_count": 70,
   "metadata": {},
   "outputs": [
    {
     "name": "stdout",
     "output_type": "stream",
     "text": [
      "   6     4      3     2\n",
      "2 x - 1 x + 10 x + 4 x - 5 x - 2\n"
     ]
    }
   ],
   "source": [
    "# result is achieved using numpy's built-in method polymul()\n",
    "\n",
    "poly_M = np.polymul(poly_P, poly_Q)\n",
    "print(poly_M)"
   ]
  },
  {
   "cell_type": "code",
   "execution_count": 71,
   "metadata": {},
   "outputs": [
    {
     "data": {
      "text/plain": [
       "[<matplotlib.lines.Line2D at 0x7efc9e69c610>]"
      ]
     },
     "execution_count": 71,
     "metadata": {},
     "output_type": "execute_result"
    },
    {
     "data": {
      "image/png": "[encoded data removed]",
      "text/plain": [
       "<Figure size 432x288 with 1 Axes>"
      ]
     },
     "metadata": {
      "needs_background": "light"
     },
     "output_type": "display_data"
    }
   ],
   "source": [
    "# plotting the resulting polynomial\n",
    "\n",
    "x = np.arange(-1, 1, 0.01);\n",
    "y = poly_M(x)\n",
    "plt.plot(x, y)"
   ]
  },
  {
   "cell_type": "markdown",
   "metadata": {},
   "source": [
    "## Division"
   ]
  },
  {
   "cell_type": "code",
   "execution_count": 84,
   "metadata": {},
   "outputs": [
    {
     "name": "stdout",
     "output_type": "stream",
     "text": [
      "(poly1d([0.5 , 0.  , 0.25]), poly1d([5.  , 2.25]))\n",
      "     2\n",
      "0.5 x + 0.25\n"
     ]
    }
   ],
   "source": [
    "# result is achieved using numpy's built-in method polydiv(), which returns the quotient and remainder of polynomial division.\n",
    "\n",
    "poly_div_result = np.polydiv(poly_P, poly_Q)\n",
    "print(poly_div_result)\n",
    "\n",
    "# separating the resulting polynomial and the reminder\n",
    "\n",
    "poly_D = np.poly1d(*poly_div_result)\n",
    "\n",
    "print(poly_D)"
   ]
  },
  {
   "cell_type": "code",
   "execution_count": 85,
   "metadata": {},
   "outputs": [
    {
     "data": {
      "text/plain": [
       "[<matplotlib.lines.Line2D at 0x7efc9e5f6ed0>]"
      ]
     },
     "execution_count": 85,
     "metadata": {},
     "output_type": "execute_result"
    },
    {
     "data": {
      "image/png": "[encoded data removed]",
      "text/plain": [
       "<Figure size 432x288 with 1 Axes>"
      ]
     },
     "metadata": {
      "needs_background": "light"
     },
     "output_type": "display_data"
    }
   ],
   "source": [
    "# plotting the resulting polynomial - reminder is here neglected\n",
    "\n",
    "x = np.arange(-1, 1, 0.01);\n",
    "y = poly_D(x)\n",
    "plt.plot(x, y)"
   ]
  },
  {
   "cell_type": "markdown",
   "metadata": {},
   "source": [
    "## References\n",
    "\n",
    "https://en.wikipedia.org/wiki/Polynomial  \n",
    "https://en.wikipedia.org/wiki/Polynomial_long_division  \n",
    "https://numpy.org/doc/stable/reference/generated/numpy.polymul.html  \n",
    "https://numpy.org/doc/stable/reference/generated/numpy.polydiv.html  \n",
    "https://nbviewer.jupyter.org/\n"
   ]
  },
  {
   "cell_type": "markdown",
   "metadata": {},
   "source": [
    "___\n",
    "Andrzej Kocielski, 2020"
   ]
  }
 ],
 "metadata": {
  "kernelspec": {
   "display_name": "Python 3",
   "language": "python",
   "name": "python3"
  },
  "language_info": {
   "codemirror_mode": {
    "name": "ipython",
    "version": 3
   },
   "file_extension": ".py",
   "mimetype": "text/x-python",
   "name": "python",
   "nbconvert_exporter": "python",
   "pygments_lexer": "ipython3",
   "version": "3.7.5"
  }
 },
 "nbformat": 4,
 "nbformat_minor": 2
}
