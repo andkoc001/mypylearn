{
 "cells": [
  {
   "cell_type": "markdown",
   "metadata": {},
   "source": [
    "# Polynomials -  mathematical operations \n",
    "\n",
    "> Author: Andrzej Kocielski\n",
    ">\n",
    "> Created: 26-07-2020\n",
    "\n",
    "#### Description\n",
    "The program performs multiplication (other to follow) of two user-defined polynomials."
   ]
  },
  {
   "cell_type": "markdown",
   "metadata": {},
   "source": [
    "## Setting up the environment"
   ]
  },
  {
   "cell_type": "code",
   "execution_count": 9,
   "metadata": {},
   "outputs": [],
   "source": [
    "# Importing libraries\n",
    "\n",
    "import math\n",
    "import numpy as np\n",
    "import matplotlib.pyplot as plt"
   ]
  },
  {
   "cell_type": "markdown",
   "metadata": {},
   "source": [
    "## Data entry\n",
    "\n",
    "User is asked to enter the two polynomials, $P(x)$ and $Q(x)$.\n",
    "\n",
    "The two polynomials have generic forms as follows:\n",
    "\n",
    "$$\n",
    "P(x) = a_n x^n + a_{n-1} x^{n-1} + ... + a_1 x + a_0 \n",
    "$$\n",
    "\n",
    "\n",
    "$$\n",
    "Q(x) = b_n x^m + b_{m-1} x^{m-1} + ... + b_1 x + b_0 \n",
    "$$"
   ]
  },
  {
   "cell_type": "code",
   "execution_count": 12,
   "metadata": {},
   "outputs": [
    {
     "name": "stdout",
     "output_type": "stream",
     "text": [
      "   4     2\n",
      "1 x + 2 x\n"
     ]
    }
   ],
   "source": [
    "# enter the values of 'a' for polynomial P:\n",
    "\n",
    "a4 = 1\n",
    "a3 = 0\n",
    "a2 = 2\n",
    "a1 = 0\n",
    "a0 = 0\n",
    "\n",
    "poly_P = np.poly1d([a4, a3, a2, a1, a0])\n",
    "\n",
    "print(poly_P)"
   ]
  },
  {
   "cell_type": "code",
   "execution_count": 20,
   "metadata": {},
   "outputs": [
    {
     "name": "stdout",
     "output_type": "stream",
     "text": [
      "   2\n",
      "2 x - 1\n"
     ]
    }
   ],
   "source": [
    "# enter the values of 'b' for polynomial Q:\n",
    "\n",
    "b4 = 0\n",
    "b3 = 0\n",
    "b2 = 2\n",
    "b1 = 0\n",
    "b0 = -1\n",
    "\n",
    "poly_Q = np.poly1d([b4, b3, b2, b1, b0])\n",
    "\n",
    "print(poly_Q)"
   ]
  },
  {
   "cell_type": "code",
   "execution_count": null,
   "metadata": {},
   "outputs": [],
   "source": []
  },
  {
   "cell_type": "markdown",
   "metadata": {},
   "source": [
    "## References\n",
    "\n",
    "https://en.wikipedia.org/wiki/Polynomial  \n",
    "https://en.wikipedia.org/wiki/Polynomial_long_division  \n",
    "https://numpy.org/doc/stable/reference/generated/numpy.polymul.html\n"
   ]
  }
 ],
 "metadata": {
  "kernelspec": {
   "display_name": "Python 3",
   "language": "python",
   "name": "python3"
  },
  "language_info": {
   "codemirror_mode": {
    "name": "ipython",
    "version": 3
   },
   "file_extension": ".py",
   "mimetype": "text/x-python",
   "name": "python",
   "nbconvert_exporter": "python",
   "pygments_lexer": "ipython3",
   "version": "3.7.5"
  }
 },
 "nbformat": 4,
 "nbformat_minor": 2
}
